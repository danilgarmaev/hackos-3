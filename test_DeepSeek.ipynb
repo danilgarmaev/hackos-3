{
 "cells": [
  {
   "cell_type": "code",
   "execution_count": 1,
   "metadata": {},
   "outputs": [
    {
     "name": "stderr",
     "output_type": "stream",
     "text": [
      "d:\\Winter2025-MILA\\HACKOS3\\HackOS-secRepo\\hackos-new\\hackos-3\\venv\\Lib\\site-packages\\tqdm\\auto.py:21: TqdmWarning: IProgress not found. Please update jupyter and ipywidgets. See https://ipywidgets.readthedocs.io/en/stable/user_install.html\n",
      "  from .autonotebook import tqdm as notebook_tqdm\n"
     ]
    }
   ],
   "source": [
    "import pandas as pd\n",
    "from model import Problem_Model, Solution_Model"
   ]
  },
  {
   "cell_type": "code",
   "execution_count": 2,
   "metadata": {},
   "outputs": [
    {
     "name": "stderr",
     "output_type": "stream",
     "text": [
      "<>:1: SyntaxWarning: invalid escape sequence '\\W'\n",
      "<>:1: SyntaxWarning: invalid escape sequence '\\W'\n",
      "C:\\Users\\arvin\\AppData\\Local\\Temp\\ipykernel_22884\\1356830749.py:1: SyntaxWarning: invalid escape sequence '\\W'\n",
      "  df = pd.read_csv('D:\\Winter2025-MILA\\HACKOS3\\HackOS-secRepo\\hackos-new\\hackos-3\\data\\synthetic\\generated.csv', sep='|', on_bad_lines='skip')\n"
     ]
    },
    {
     "name": "stdout",
     "output_type": "stream",
     "text": [
      "                                               input error_type severity  \\\n",
      "0  [Thu Sep 21 11:10:55.123456 2023] [rewrite:war...    warning     warn   \n",
      "1  [Wed Oct 11 14:32:45.000000 2023] [error] [cli...    runtime    error   \n",
      "2  [Wed Oct 11 14:32:52.833446 2023] [rewrite:err...    warning     warn   \n",
      "3  [Wed Oct 11 14:32:52.833446 2023] [pid 1234] [...    runtime    error   \n",
      "4  [Wed Oct 11 14:32:52.833446 2023] [pid 1234] [...    runtime    error   \n",
      "\n",
      "                                         description  \\\n",
      "0  The RewriteRule directive matched a request, b...   \n",
      "1  The error indicates that the Apache server cou...   \n",
      "2  The error occurs because the mod_rewrite modul...   \n",
      "3  The error occurs due to an invalid URI redirec...   \n",
      "4  The error indicates a syntax issue in the .hta...   \n",
      "\n",
      "                                            solution  \n",
      "0  Check the file permissions for the target file...  \n",
      "1  Check if the .htaccess file exists in the /var...  \n",
      "2  Check the .htaccess file for syntax errors, pa...  \n",
      "3  Inspect the RewriteRule at line 10 of the .hta...  \n",
      "4  Check the .htaccess file and correct the URI r...  \n"
     ]
    }
   ],
   "source": [
    "df = pd.read_csv('D:\\Winter2025-MILA\\HACKOS3\\HackOS-secRepo\\hackos-new\\hackos-3\\data\\synthetic\\generated.csv', sep='|', on_bad_lines='skip')\n",
    "print(df.head())"
   ]
  },
  {
   "cell_type": "code",
   "execution_count": 3,
   "metadata": {},
   "outputs": [
    {
     "name": "stdout",
     "output_type": "stream",
     "text": [
      "Loading model DeepSeek-R1-Distill-Qwen-1.5B...\n",
      "\n",
      "🔹 Loading model from: D:\\Winter2025-MILA\\HACKOS3\\HackOS-secRepo\\Caching_models\\models\\weights\\DeepSeek-R1-Distill-Qwen-1.5B\n",
      "🔹 Loading tokenizer from: D:\\Winter2025-MILA\\HACKOS3\\HackOS-secRepo\\Caching_models\\models\\tokenizers\\DeepSeek-R1-Distill-Qwen-1.5B\n",
      "Model and tokenizer loaded successfully from downloaded files!\n"
     ]
    },
    {
     "name": "stderr",
     "output_type": "stream",
     "text": [
      "Device set to use cpu\n"
     ]
    },
    {
     "name": "stdout",
     "output_type": "stream",
     "text": [
      "Model DeepSeek-R1-Distill-Qwen-1.5B loaded in 561.88 seconds.\n",
      "------------------------------------------------\n",
      "Loading model DeepSeek-R1-Distill-Qwen-1.5B...\n",
      "\n",
      "🔹 Loading model from: D:\\Winter2025-MILA\\HACKOS3\\HackOS-secRepo\\Caching_models\\models\\weights\\DeepSeek-R1-Distill-Qwen-1.5B\n",
      "🔹 Loading tokenizer from: D:\\Winter2025-MILA\\HACKOS3\\HackOS-secRepo\\Caching_models\\models\\tokenizers\\DeepSeek-R1-Distill-Qwen-1.5B\n",
      "Model and tokenizer loaded successfully from downloaded files!\n"
     ]
    },
    {
     "name": "stderr",
     "output_type": "stream",
     "text": [
      "Device set to use cpu\n"
     ]
    },
    {
     "name": "stdout",
     "output_type": "stream",
     "text": [
      "Model DeepSeek-R1-Distill-Qwen-1.5B loaded in 963.84 seconds.\n",
      "------------------------------------------------\n"
     ]
    }
   ],
   "source": [
    "problem_model = Problem_Model(\n",
    "    model_name=\"DeepSeek-R1-Distill-Qwen-1.5B\",\n",
    "    prompt_template_path=r\"D:\\Winter2025-MILA\\HACKOS3\\HackOS-secRepo\\hackos-new\\hackos-3\\prompts_template\\error_description_generation\\error_description_generation.md\"\n",
    ")\n",
    "\n",
    "solution_model = Solution_Model(\n",
    "    model_name=\"DeepSeek-R1-Distill-Qwen-1.5B\",\n",
    "    prompt_template_path=r\"D:\\Winter2025-MILA\\HACKOS3\\HackOS-secRepo\\hackos-new\\hackos-3\\prompts_template\\solution_generation\\solution_generation.md\"\n",
    ")\n"
   ]
  },
  {
   "cell_type": "code",
   "execution_count": 4,
   "metadata": {},
   "outputs": [
    {
     "name": "stdout",
     "output_type": "stream",
     "text": [
      "Starting prediction...\n",
      "Completion in 914.46 seconds.\n",
      "------------------------------------------------\n",
      "input='[Wed Oct 11 14:32:52.833446 2023] [pid 1234] [client 192.168.1.1] Invalid URI redirect in .htaccess file at line 10' error_type='error' severity='error' description='The.htaccess file contains an invalid redirect URI at line 10, causing a 404 error.' solution=None\n",
      "Starting prediction...\n",
      "# Instruction\n",
      "You are a helpful assistant generating solutions to error messages from production-environment system logs.\n",
      "\n",
      "## Input format and content\n",
      "\"error_type\" | \"severity\" | \"description\"\n",
      "\n",
      "with:\n",
      "- \"error_type\": the type of error that the line represents, must be \"fatal\", \"runtime\", \"warning\" or \"no_error\",\n",
      "- \"severity\": the severity (LogLevel) of the error, must be \"error\", \"warn\", or \"notice\",\n",
      "- \"description\": a brief interpretation of the log line.\n",
      "\n",
      "### Example sessions\n",
      "\n",
      "###START_SESSION###\n",
      "# Prompt\n",
      "\"warning\" | \"warn\" | \"The RewriteRule directive matched a request, but no substitution was performed, possibly due to file permissions issues.\"\n",
      "\n",
      "# Completion\n",
      "<think>\n",
      "(You put all your reasoning leading to the completion json here inside this section)\n",
      "</think>\n",
      "\n",
      "Answer:\n",
      "Check the file permissions for the target file or directory. Ensure that the RewriteRule is correctly configured and that the substitution pattern is valid.\n",
      "###END_SESSION###\n",
      "\n",
      "###START_SESSION###\n",
      "# Prompt\n",
      "\"runtime\" | \"error\" | \"The error indicates an invalid URI redirect directive in the .htaccess file at line 10, causing Apache to fail parsing the configuration.\"\n",
      "\n",
      "# Completion\n",
      "<think>\n",
      "(You put all your reasoning leading to the completion json here inside this section)\n",
      "</think>\n",
      "\n",
      "Answer:\n",
      "Check if the .htaccess file exists in the /var/www/html/ directory. Ensure that the AllowOverride directive is properly configured in your apache2.conf or httpd.conf file to allow overrides.\n",
      "###END_SESSION###\n",
      "\n",
      "## Important notice\n",
      "- The output must be a string giving a solution to the log error for a user.\n",
      "- Feel creative and be as informative as possible in your solution.\n",
      "\n",
      "###START_SESSION###\n",
      "# Prompt\n",
      "error | error | The.htaccess file contains an invalid redirect URI at line 10, causing a 404 error.\n",
      "\n",
      "# Completion\n",
      "<think>\n",
      "(You put all your reasoning leading to the completion json here inside this section)\n",
      "</think>\n",
      "\n",
      "Answer:\n",
      "Check if the.htaccess file exists in the /var/www/html/ directory. Ensure that the AllowOverride directive is properly configured in your apache2.conf or httpd.conf file to allow overrides. If the file does not exist, create it with the correct redirect URI.\n",
      "Completion in 690.58 seconds.\n",
      "------------------------------------------------\n"
     ]
    }
   ],
   "source": [
    "idx = 4\n",
    "output = problem_model.predict(data=df.loc[idx][\"input\"])\n",
    "print(output)\n",
    "output = solution_model.predict(data=output.to_dict(), verbose=True)"
   ]
  },
  {
   "cell_type": "code",
   "execution_count": 8,
   "metadata": {},
   "outputs": [
    {
     "name": "stdout",
     "output_type": "stream",
     "text": [
      "input='[Wed Oct 11 14:32:52.833446 2023] [pid 1234] [client 192.168.1.1] Invalid URI redirect in .htaccess file at line 10' error_type='error' severity='error' description='The.htaccess file contains an invalid redirect URI at line 10, causing a 404 error.' solution='Check if the.htaccess file exists in the /var/www/html/ directory. Ensure that the AllowOverride directive is properly configured in your apache2.conf or httpd.conf file to allow overrides. If the file does not exist, create it with the correct redirect URI.'\n"
     ]
    }
   ],
   "source": [
    "print(output)"
   ]
  },
  {
   "cell_type": "code",
   "execution_count": 14,
   "metadata": {},
   "outputs": [],
   "source": [
    "from benchmark.benchmark import Benchmark"
   ]
  },
  {
   "cell_type": "code",
   "execution_count": 17,
   "metadata": {},
   "outputs": [
    {
     "ename": "TypeError",
     "evalue": "keywords must be strings",
     "output_type": "error",
     "traceback": [
      "\u001b[1;31m---------------------------------------------------------------------------\u001b[0m",
      "\u001b[1;31mTypeError\u001b[0m                                 Traceback (most recent call last)",
      "Cell \u001b[1;32mIn[17], line 5\u001b[0m\n\u001b[0;32m      1\u001b[0m \u001b[38;5;66;03m# Path to the dataset CSV file\u001b[39;00m\n\u001b[0;32m      2\u001b[0m dataset_path \u001b[38;5;241m=\u001b[39m \u001b[38;5;124mr\u001b[39m\u001b[38;5;124m\"\u001b[39m\u001b[38;5;124mD:\u001b[39m\u001b[38;5;124m\\\u001b[39m\u001b[38;5;124mWinter2025-MILA\u001b[39m\u001b[38;5;124m\\\u001b[39m\u001b[38;5;124mHACKOS3\u001b[39m\u001b[38;5;124m\\\u001b[39m\u001b[38;5;124mHackOS-secRepo\u001b[39m\u001b[38;5;124m\\\u001b[39m\u001b[38;5;124mhackos-new\u001b[39m\u001b[38;5;124m\\\u001b[39m\u001b[38;5;124mhackos-3\u001b[39m\u001b[38;5;124m\\\u001b[39m\u001b[38;5;124mactual_validation.csv\u001b[39m\u001b[38;5;124m\"\u001b[39m\n\u001b[1;32m----> 5\u001b[0m benchmark_problem \u001b[38;5;241m=\u001b[39m \u001b[43mBenchmark\u001b[49m\u001b[43m(\u001b[49m\u001b[43mmodel\u001b[49m\u001b[38;5;241;43m=\u001b[39;49m\u001b[43mproblem_model\u001b[49m\u001b[43m,\u001b[49m\u001b[43m \u001b[49m\u001b[43mdataset_path\u001b[49m\u001b[38;5;241;43m=\u001b[39;49m\u001b[43mdataset_path\u001b[49m\u001b[43m)\u001b[49m\n\u001b[0;32m      7\u001b[0m \u001b[38;5;28mprint\u001b[39m(\u001b[38;5;124m\"\u001b[39m\u001b[38;5;124mRunning benchmark for Problem_Model...\u001b[39m\u001b[38;5;124m\"\u001b[39m)\n\u001b[0;32m      8\u001b[0m losses_problem, predictions_problem, data_length_problem \u001b[38;5;241m=\u001b[39m benchmark_problem\u001b[38;5;241m.\u001b[39mrun_benchmark()\n",
      "File \u001b[1;32md:\\Winter2025-MILA\\HACKOS3\\HackOS-secRepo\\hackos-new\\hackos-3\\benchmark\\benchmark.py:20\u001b[0m, in \u001b[0;36mBenchmark.__init__\u001b[1;34m(self, model, dataset_path, delimiter)\u001b[0m\n\u001b[0;32m     17\u001b[0m \u001b[38;5;28mself\u001b[39m\u001b[38;5;241m.\u001b[39mmetrics \u001b[38;5;241m=\u001b[39m \u001b[38;5;28mself\u001b[39m\u001b[38;5;241m.\u001b[39mmodel\u001b[38;5;241m.\u001b[39mget_prediction_metrics()\n\u001b[0;32m     19\u001b[0m \u001b[38;5;66;03m# Load dataset as a list of ModelPrediction:\u001b[39;00m\n\u001b[1;32m---> 20\u001b[0m \u001b[38;5;28mself\u001b[39m\u001b[38;5;241m.\u001b[39mdataset \u001b[38;5;241m=\u001b[39m \u001b[38;5;28;43mself\u001b[39;49m\u001b[38;5;241;43m.\u001b[39;49m\u001b[43mload_dataset\u001b[49m\u001b[43m(\u001b[49m\u001b[43mdataset_path\u001b[49m\u001b[43m,\u001b[49m\u001b[43m \u001b[49m\u001b[43mdelimiter\u001b[49m\u001b[38;5;241;43m=\u001b[39;49m\u001b[38;5;28;43mself\u001b[39;49m\u001b[38;5;241;43m.\u001b[39;49m\u001b[43mdelimiter\u001b[49m\u001b[43m)\u001b[49m\n",
      "File \u001b[1;32md:\\Winter2025-MILA\\HACKOS3\\HackOS-secRepo\\hackos-new\\hackos-3\\benchmark\\benchmark.py:31\u001b[0m, in \u001b[0;36mBenchmark.load_dataset\u001b[1;34m(path, delimiter)\u001b[0m\n\u001b[0;32m     29\u001b[0m     rows \u001b[38;5;241m=\u001b[39m csv\u001b[38;5;241m.\u001b[39mDictReader(csvfile, delimiter\u001b[38;5;241m=\u001b[39mdelimiter)\n\u001b[0;32m     30\u001b[0m     _dicts \u001b[38;5;241m=\u001b[39m [{k: v \u001b[38;5;28;01mfor\u001b[39;00m k, v \u001b[38;5;129;01min\u001b[39;00m row\u001b[38;5;241m.\u001b[39mitems()} \u001b[38;5;28;01mfor\u001b[39;00m row \u001b[38;5;129;01min\u001b[39;00m rows]\n\u001b[1;32m---> 31\u001b[0m _dataset \u001b[38;5;241m=\u001b[39m [\u001b[43mModelPrediction\u001b[49m\u001b[38;5;241;43m.\u001b[39;49m\u001b[43mfrom_dict\u001b[49m\u001b[43m(\u001b[49m\u001b[43m_dict\u001b[49m\u001b[43m)\u001b[49m \u001b[38;5;28;01mfor\u001b[39;00m _dict \u001b[38;5;129;01min\u001b[39;00m _dicts]\n\u001b[0;32m     32\u001b[0m \u001b[38;5;28;01mreturn\u001b[39;00m _dataset\n",
      "File \u001b[1;32md:\\Winter2025-MILA\\HACKOS3\\HackOS-secRepo\\hackos-new\\hackos-3\\benchmark\\model_class.py:36\u001b[0m, in \u001b[0;36mModelPrediction.from_dict\u001b[1;34m(dictionary)\u001b[0m\n\u001b[0;32m     34\u001b[0m \u001b[38;5;129m@staticmethod\u001b[39m\n\u001b[0;32m     35\u001b[0m \u001b[38;5;28;01mdef\u001b[39;00m\u001b[38;5;250m \u001b[39m\u001b[38;5;21mfrom_dict\u001b[39m(dictionary: \u001b[38;5;28mdict\u001b[39m):\n\u001b[1;32m---> 36\u001b[0m     \u001b[38;5;28;01mreturn\u001b[39;00m \u001b[43mModelPrediction\u001b[49m\u001b[43m(\u001b[49m\u001b[38;5;241;43m*\u001b[39;49m\u001b[38;5;241;43m*\u001b[39;49m\u001b[43mdictionary\u001b[49m\u001b[43m)\u001b[49m\n",
      "\u001b[1;31mTypeError\u001b[0m: keywords must be strings"
     ]
    }
   ],
   "source": [
    "# Path to the dataset CSV file\n",
    "dataset_path = r\"D:\\Winter2025-MILA\\HACKOS3\\HackOS-secRepo\\hackos-new\\hackos-3\\actual_validation.csv\"\n",
    "\n",
    "\n",
    "benchmark_problem = Benchmark(model=problem_model, dataset_path=dataset_path)\n",
    "\n",
    "print(\"Running benchmark for Problem_Model...\")\n",
    "losses_problem, predictions_problem, data_length_problem = benchmark_problem.run_benchmark()\n",
    "\n",
    "print(f\"Losses (Problem_Model): {losses_problem}\")\n",
    "print(f\"Total samples: {data_length_problem}\")"
   ]
  },
  {
   "cell_type": "code",
   "execution_count": 18,
   "metadata": {},
   "outputs": [
    {
     "ename": "TypeError",
     "evalue": "keywords must be strings",
     "output_type": "error",
     "traceback": [
      "\u001b[1;31m---------------------------------------------------------------------------\u001b[0m",
      "\u001b[1;31mTypeError\u001b[0m                                 Traceback (most recent call last)",
      "Cell \u001b[1;32mIn[18], line 1\u001b[0m\n\u001b[1;32m----> 1\u001b[0m benchmark_solution \u001b[38;5;241m=\u001b[39m \u001b[43mBenchmark\u001b[49m\u001b[43m(\u001b[49m\u001b[43mmodel\u001b[49m\u001b[38;5;241;43m=\u001b[39;49m\u001b[43msolution_model\u001b[49m\u001b[43m,\u001b[49m\u001b[43m \u001b[49m\u001b[43mdataset_path\u001b[49m\u001b[38;5;241;43m=\u001b[39;49m\u001b[43mdataset_path\u001b[49m\u001b[43m)\u001b[49m\n\u001b[0;32m      3\u001b[0m \u001b[38;5;66;03m# Run benchmark for Solution_Model\u001b[39;00m\n\u001b[0;32m      4\u001b[0m \u001b[38;5;28mprint\u001b[39m(\u001b[38;5;124m\"\u001b[39m\u001b[38;5;124mRunning benchmark for Solution_Model...\u001b[39m\u001b[38;5;124m\"\u001b[39m)\n",
      "File \u001b[1;32md:\\Winter2025-MILA\\HACKOS3\\HackOS-secRepo\\hackos-new\\hackos-3\\benchmark\\benchmark.py:20\u001b[0m, in \u001b[0;36mBenchmark.__init__\u001b[1;34m(self, model, dataset_path, delimiter)\u001b[0m\n\u001b[0;32m     17\u001b[0m \u001b[38;5;28mself\u001b[39m\u001b[38;5;241m.\u001b[39mmetrics \u001b[38;5;241m=\u001b[39m \u001b[38;5;28mself\u001b[39m\u001b[38;5;241m.\u001b[39mmodel\u001b[38;5;241m.\u001b[39mget_prediction_metrics()\n\u001b[0;32m     19\u001b[0m \u001b[38;5;66;03m# Load dataset as a list of ModelPrediction:\u001b[39;00m\n\u001b[1;32m---> 20\u001b[0m \u001b[38;5;28mself\u001b[39m\u001b[38;5;241m.\u001b[39mdataset \u001b[38;5;241m=\u001b[39m \u001b[38;5;28;43mself\u001b[39;49m\u001b[38;5;241;43m.\u001b[39;49m\u001b[43mload_dataset\u001b[49m\u001b[43m(\u001b[49m\u001b[43mdataset_path\u001b[49m\u001b[43m,\u001b[49m\u001b[43m \u001b[49m\u001b[43mdelimiter\u001b[49m\u001b[38;5;241;43m=\u001b[39;49m\u001b[38;5;28;43mself\u001b[39;49m\u001b[38;5;241;43m.\u001b[39;49m\u001b[43mdelimiter\u001b[49m\u001b[43m)\u001b[49m\n",
      "File \u001b[1;32md:\\Winter2025-MILA\\HACKOS3\\HackOS-secRepo\\hackos-new\\hackos-3\\benchmark\\benchmark.py:31\u001b[0m, in \u001b[0;36mBenchmark.load_dataset\u001b[1;34m(path, delimiter)\u001b[0m\n\u001b[0;32m     29\u001b[0m     rows \u001b[38;5;241m=\u001b[39m csv\u001b[38;5;241m.\u001b[39mDictReader(csvfile, delimiter\u001b[38;5;241m=\u001b[39mdelimiter)\n\u001b[0;32m     30\u001b[0m     _dicts \u001b[38;5;241m=\u001b[39m [{k: v \u001b[38;5;28;01mfor\u001b[39;00m k, v \u001b[38;5;129;01min\u001b[39;00m row\u001b[38;5;241m.\u001b[39mitems()} \u001b[38;5;28;01mfor\u001b[39;00m row \u001b[38;5;129;01min\u001b[39;00m rows]\n\u001b[1;32m---> 31\u001b[0m _dataset \u001b[38;5;241m=\u001b[39m [\u001b[43mModelPrediction\u001b[49m\u001b[38;5;241;43m.\u001b[39;49m\u001b[43mfrom_dict\u001b[49m\u001b[43m(\u001b[49m\u001b[43m_dict\u001b[49m\u001b[43m)\u001b[49m \u001b[38;5;28;01mfor\u001b[39;00m _dict \u001b[38;5;129;01min\u001b[39;00m _dicts]\n\u001b[0;32m     32\u001b[0m \u001b[38;5;28;01mreturn\u001b[39;00m _dataset\n",
      "File \u001b[1;32md:\\Winter2025-MILA\\HACKOS3\\HackOS-secRepo\\hackos-new\\hackos-3\\benchmark\\model_class.py:36\u001b[0m, in \u001b[0;36mModelPrediction.from_dict\u001b[1;34m(dictionary)\u001b[0m\n\u001b[0;32m     34\u001b[0m \u001b[38;5;129m@staticmethod\u001b[39m\n\u001b[0;32m     35\u001b[0m \u001b[38;5;28;01mdef\u001b[39;00m\u001b[38;5;250m \u001b[39m\u001b[38;5;21mfrom_dict\u001b[39m(dictionary: \u001b[38;5;28mdict\u001b[39m):\n\u001b[1;32m---> 36\u001b[0m     \u001b[38;5;28;01mreturn\u001b[39;00m \u001b[43mModelPrediction\u001b[49m\u001b[43m(\u001b[49m\u001b[38;5;241;43m*\u001b[39;49m\u001b[38;5;241;43m*\u001b[39;49m\u001b[43mdictionary\u001b[49m\u001b[43m)\u001b[49m\n",
      "\u001b[1;31mTypeError\u001b[0m: keywords must be strings"
     ]
    }
   ],
   "source": [
    "benchmark_solution = Benchmark(model=solution_model, dataset_path=dataset_path)\n",
    "\n",
    "# Run benchmark for Solution_Model\n",
    "print(\"Running benchmark for Solution_Model...\")\n",
    "losses_solution, predictions_solution, data_length_solution = benchmark_solution.run_benchmark()\n",
    "\n",
    "# Print results for Solution_Model\n",
    "print(f\"Losses (Solution_Model): {losses_solution}\")\n",
    "print(f\"Total samples: {data_length_solution}\")"
   ]
  },
  {
   "cell_type": "code",
   "execution_count": null,
   "metadata": {},
   "outputs": [],
   "source": []
  }
 ],
 "metadata": {
  "kernelspec": {
   "display_name": "venv",
   "language": "python",
   "name": "python3"
  },
  "language_info": {
   "codemirror_mode": {
    "name": "ipython",
    "version": 3
   },
   "file_extension": ".py",
   "mimetype": "text/x-python",
   "name": "python",
   "nbconvert_exporter": "python",
   "pygments_lexer": "ipython3",
   "version": "3.13.0"
  }
 },
 "nbformat": 4,
 "nbformat_minor": 2
}
