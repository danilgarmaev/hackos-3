{
 "cells": [
  {
   "cell_type": "code",
   "execution_count": 1,
   "metadata": {},
   "outputs": [
    {
     "name": "stderr",
     "output_type": "stream",
     "text": [
      "c:\\Users\\jager\\Desktop\\github\\hackos-3\\venv\\Lib\\site-packages\\tqdm\\auto.py:21: TqdmWarning: IProgress not found. Please update jupyter and ipywidgets. See https://ipywidgets.readthedocs.io/en/stable/user_install.html\n",
      "  from .autonotebook import tqdm as notebook_tqdm\n"
     ]
    }
   ],
   "source": [
    "import pandas as pd\n",
    "from model import Problem_Model, Solution_Model"
   ]
  },
  {
   "cell_type": "code",
   "execution_count": 2,
   "metadata": {},
   "outputs": [
    {
     "name": "stdout",
     "output_type": "stream",
     "text": [
      "                                               input error_type severity  \\\n",
      "0  [Thu Sep 21 11:10:55.123456 2023] [rewrite:war...    warning     warn   \n",
      "1  [Wed Oct 11 14:32:45.000000 2023] [error] [cli...    runtime    error   \n",
      "2  [Wed Oct 11 14:32:52.833446 2023] [rewrite:err...    warning     warn   \n",
      "3  [Wed Oct 11 14:32:52.833446 2023] [pid 1234] [...    runtime    error   \n",
      "4  [Wed Oct 11 14:32:52.833446 2023] [pid 1234] [...    runtime    error   \n",
      "\n",
      "                                         description  \\\n",
      "0  The RewriteRule directive matched a request, b...   \n",
      "1  The error indicates that the Apache server cou...   \n",
      "2  The error occurs because the mod_rewrite modul...   \n",
      "3  The error occurs due to an invalid URI redirec...   \n",
      "4  The error indicates a syntax issue in the .hta...   \n",
      "\n",
      "                                            solution  \n",
      "0  Check the file permissions for the target file...  \n",
      "1  Check if the .htaccess file exists in the /var...  \n",
      "2  Check the .htaccess file for syntax errors, pa...  \n",
      "3  Inspect the RewriteRule at line 10 of the .hta...  \n",
      "4  Check the .htaccess file and correct the URI r...  \n"
     ]
    }
   ],
   "source": [
    "df = pd.read_csv('C:/Users/jager/Desktop/github/hackos-3/data/synthetic/generated.csv', sep='|', on_bad_lines='skip')\n",
    "print(df.head())"
   ]
  },
  {
   "cell_type": "code",
   "execution_count": 3,
   "metadata": {},
   "outputs": [
    {
     "name": "stdout",
     "output_type": "stream",
     "text": [
      "Loading model DeepSeek-R1-Distill-Qwen-1.5B...\n"
     ]
    },
    {
     "name": "stderr",
     "output_type": "stream",
     "text": [
      "Loading checkpoint shards: 100%|██████████| 2/2 [00:00<00:00,  2.05it/s]\n",
      "Device set to use cpu\n"
     ]
    },
    {
     "name": "stdout",
     "output_type": "stream",
     "text": [
      "Model DeepSeek-R1-Distill-Qwen-1.5B loaded in 1.63 seconds.\n",
      "------------------------------------------------\n",
      "Loading model DeepSeek-R1-Distill-Qwen-1.5B...\n"
     ]
    },
    {
     "name": "stderr",
     "output_type": "stream",
     "text": [
      "Loading checkpoint shards: 100%|██████████| 2/2 [00:00<00:00,  2.57it/s]\n",
      "Device set to use cpu\n"
     ]
    },
    {
     "name": "stdout",
     "output_type": "stream",
     "text": [
      "Model DeepSeek-R1-Distill-Qwen-1.5B loaded in 1.31 seconds.\n",
      "------------------------------------------------\n"
     ]
    }
   ],
   "source": [
    "problem_model = Problem_Model(\n",
    "    model_name=\"DeepSeek-R1-Distill-Qwen-1.5B\",\n",
    "    prompt_template_path='C:/Users/jager/Desktop/github/hackos-3/prompts_template/error_description_generation/error_description_generation.md'\n",
    "    )\n",
    "\n",
    "solution_model = Solution_Model(\n",
    "    model_name=\"DeepSeek-R1-Distill-Qwen-1.5B\",\n",
    "    prompt_template_path='C:/Users/jager/Desktop/github/hackos-3/prompts_template/solution_generation/solution_generation.md'\n",
    "    )"
   ]
  },
  {
   "cell_type": "code",
   "execution_count": 4,
   "metadata": {},
   "outputs": [
    {
     "name": "stdout",
     "output_type": "stream",
     "text": [
      "Starting prediction...\n",
      "Completion in 26.59 seconds.\n",
      "------------------------------------------------\n",
      "input='[Wed Oct 11 14:32:52.833446 2023] [pid 1234] [client 192.168.1.1] Invalid URI redirect in .htaccess file at line 10' error_type='error' severity='error' description='The.htaccess file contains an invalid URI redirect directive at line 10, causing Apache to fail parsing the configuration.' solution=None\n",
      "Starting prediction...\n",
      "# Instruction\n",
      "You are a helpful assistant generating solutions to error messages from production-environment system logs.\n",
      "\n",
      "## Input format and content\n",
      "\"error_type\" | \"severity\" | \"description\"\n",
      "\n",
      "with:\n",
      "- \"error_type\": the type of error that the line represents, must be \"fatal\", \"runtime\", \"warning\" or \"no_error\",\n",
      "- \"severity\": the severity (LogLevel) of the error, must be \"error\", \"warn\", or \"notice\",\n",
      "- \"description\": a brief interpretation of the log line.\n",
      "\n",
      "### Example sessions\n",
      "\n",
      "###START_SESSION###\n",
      "# Prompt\n",
      "\"warning\" | \"warn\" | \"The RewriteRule directive matched a request, but no substitution was performed, possibly due to file permissions issues.\"\n",
      "\n",
      "# Completion\n",
      "<think>\n",
      "(You put all your reasoning leading to the completion json here inside this section)\n",
      "</think>\n",
      "\n",
      "Answer:\n",
      "Check the file permissions for the target file or directory. Ensure that the RewriteRule is correctly configured and that the substitution pattern is valid.\n",
      "###END_SESSION###\n",
      "\n",
      "###START_SESSION###\n",
      "# Prompt\n",
      "\"runtime\" | \"error\" | \"The error indicates an invalid URI redirect directive in the .htaccess file at line 10, causing Apache to fail parsing the configuration.\"\n",
      "\n",
      "# Completion\n",
      "<think>\n",
      "(You put all your reasoning leading to the completion json here inside this section)\n",
      "</think>\n",
      "\n",
      "Answer:\n",
      "Check if the .htaccess file exists in the /var/www/html/ directory. Ensure that the AllowOverride directive is properly configured in your apache2.conf or httpd.conf file to allow overrides.\n",
      "###END_SESSION###\n",
      "\n",
      "## Important notice\n",
      "- The output must be a string giving a solution to the log error for a user.\n",
      "- Feel creative and be as informative as possible in your solution.\n",
      "\n",
      "###START_SESSION###\n",
      "# Prompt\n",
      "error | error | The.htaccess file contains an invalid URI redirect directive at line 10, causing Apache to fail parsing the configuration.\n",
      "\n",
      "# Completion\n",
      "<think>\n",
      "(You put all your reasoning leading to the completion json here inside this section)\n",
      "</think>\n",
      "\n",
      "Answer:\n",
      "Check if the.htaccess file exists in the /var/www/html directory. Ensure that the AllowOverride directive is properly configured in your apache2.conf or httpd.conf file to allow overrides.\n",
      "Completion in 20.74 seconds.\n",
      "------------------------------------------------\n"
     ]
    }
   ],
   "source": [
    "idx = 4\n",
    "output = problem_model.predict(data=df.loc[idx][\"input\"])\n",
    "print(output)\n",
    "output = solution_model.predict(data=output.to_dict(), verbose=True)"
   ]
  },
  {
   "cell_type": "code",
   "execution_count": 5,
   "metadata": {},
   "outputs": [
    {
     "name": "stdout",
     "output_type": "stream",
     "text": [
      "Generated output: \n",
      "{'input': '[Wed Oct 11 14:32:52.833446 2023] [pid 1234] [client 192.168.1.1] Invalid URI redirect in .htaccess file at line 10', 'error_type': 'error', 'severity': 'error', 'description': 'The.htaccess file contains an invalid URI redirect directive at line 10, causing Apache to fail parsing the configuration.', 'solution': 'Check if the.htaccess file exists in the /var/www/html directory. Ensure that the AllowOverride directive is properly configured in your apache2.conf or httpd.conf file to allow overrides.'}\n",
      "--------------------\n",
      "Expected output: \n",
      "{'input': '[Wed Oct 11 14:32:52.833446 2023] [pid 1234] [client 192.168.1.1] Invalid URI redirect in .htaccess file at line 10', 'error_type': 'runtime', 'severity': 'error', 'description': 'The error indicates a syntax issue in the .htaccess file, specifically an invalid URI redirect directive on line 10.', 'solution': 'Check the .htaccess file and correct the URI redirect directive. Ensure it points to a valid location and follows proper syntax.'}\n"
     ]
    }
   ],
   "source": [
    "print(\"Generated output: \")\n",
    "print(output.to_dict())\n",
    "print(\"--------------------\")\n",
    "print(\"Expected output: \")\n",
    "print(df.loc[idx].to_dict())"
   ]
  }
 ],
 "metadata": {
  "kernelspec": {
   "display_name": "venv",
   "language": "python",
   "name": "python3"
  },
  "language_info": {
   "codemirror_mode": {
    "name": "ipython",
    "version": 3
   },
   "file_extension": ".py",
   "mimetype": "text/x-python",
   "name": "python",
   "nbconvert_exporter": "python",
   "pygments_lexer": "ipython3",
   "version": "3.11.9"
  }
 },
 "nbformat": 4,
 "nbformat_minor": 2
}
