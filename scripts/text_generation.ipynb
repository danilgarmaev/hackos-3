{
 "cells": [
  {
   "cell_type": "code",
   "execution_count": 1,
   "metadata": {},
   "outputs": [
    {
     "name": "stderr",
     "output_type": "stream",
     "text": [
      "c:\\Users\\jager\\Desktop\\github\\hackos-3\\venv\\Lib\\site-packages\\tqdm\\auto.py:21: TqdmWarning: IProgress not found. Please update jupyter and ipywidgets. See https://ipywidgets.readthedocs.io/en/stable/user_install.html\n",
      "  from .autonotebook import tqdm as notebook_tqdm\n"
     ]
    },
    {
     "name": "stdout",
     "output_type": "stream",
     "text": [
      "Loading model DeepSeek-R1-Distill-Qwen-1.5B...\n"
     ]
    },
    {
     "name": "stderr",
     "output_type": "stream",
     "text": [
      "Loading checkpoint shards: 100%|██████████| 2/2 [00:00<00:00,  3.13it/s]\n",
      "Device set to use cpu\n"
     ]
    },
    {
     "name": "stdout",
     "output_type": "stream",
     "text": [
      "Model DeepSeek-R1-Distill-Qwen-1.5B loaded in 1.30 seconds.\n",
      "------------------------------------------------\n",
      "{'vocab_size': 151936, 'max_position_embeddings': 131072, 'hidden_size': 1536, 'intermediate_size': 8960, 'num_hidden_layers': 28, 'num_attention_heads': 12, 'use_sliding_window': False, 'sliding_window': None, 'max_window_layers': 21, 'num_key_value_heads': 2, 'hidden_act': 'silu', 'initializer_range': 0.02, 'rms_norm_eps': 1e-06, 'use_cache': True, 'rope_theta': 10000, 'rope_scaling': None, 'attention_dropout': 0.0, 'return_dict': True, 'output_hidden_states': False, 'output_attentions': False, 'torchscript': False, 'torch_dtype': 'float32', 'use_bfloat16': False, 'tf_legacy_loss': False, 'pruned_heads': {}, 'tie_word_embeddings': False, 'chunk_size_feed_forward': 0, 'is_encoder_decoder': False, 'is_decoder': False, 'cross_attention_hidden_size': None, 'add_cross_attention': False, 'tie_encoder_decoder': False, 'max_length': 20, 'min_length': 0, 'do_sample': False, 'early_stopping': False, 'num_beams': 1, 'num_beam_groups': 1, 'diversity_penalty': 0.0, 'temperature': 1.0, 'top_k': 50, 'top_p': 1.0, 'typical_p': 1.0, 'repetition_penalty': 1.0, 'length_penalty': 1.0, 'no_repeat_ngram_size': 0, 'encoder_no_repeat_ngram_size': 0, 'bad_words_ids': None, 'num_return_sequences': 1, 'output_scores': False, 'return_dict_in_generate': False, 'forced_bos_token_id': None, 'forced_eos_token_id': None, 'remove_invalid_values': False, 'exponential_decay_length_penalty': None, 'suppress_tokens': None, 'begin_suppress_tokens': None, 'architectures': ['Qwen2ForCausalLM'], 'finetuning_task': None, 'id2label': {0: 'LABEL_0', 1: 'LABEL_1'}, 'label2id': {'LABEL_0': 0, 'LABEL_1': 1}, 'tokenizer_class': None, 'prefix': None, 'bos_token_id': 151643, 'pad_token_id': None, 'eos_token_id': 151643, 'sep_token_id': None, 'decoder_start_token_id': None, 'task_specific_params': None, 'problem_type': None, '_name_or_path': 'c:\\\\Users\\\\jager\\\\Desktop\\\\github\\\\hackos-3\\\\models\\\\weights\\\\DeepSeek-R1-Distill-Qwen-1.5B', '_attn_implementation_autoset': True, 'transformers_version': '4.48.2', 'model_type': 'qwen2', 'use_mrope': False}\n"
     ]
    }
   ],
   "source": [
    "from model import DeepSeek_1_5B_Model\n",
    "\n",
    "model = DeepSeek_1_5B_Model()\n",
    "\n",
    "print(str(model.getConfig()))"
   ]
  },
  {
   "cell_type": "code",
   "execution_count": 2,
   "metadata": {},
   "outputs": [
    {
     "name": "stdout",
     "output_type": "stream",
     "text": [
      "                                               input error_type severity  \\\n",
      "0  [Thu Sep 21 11:10:55.123456 2023] [rewrite:war...    warning     warn   \n",
      "1  [Wed Oct 11 14:32:45.000000 2023] [error] [cli...    runtime    error   \n",
      "2  [Wed Oct 11 14:32:52.833446 2023] [rewrite:err...    warning     warn   \n",
      "3  [Wed Oct 11 14:32:52.833446 2023] [pid 1234] [...    runtime    error   \n",
      "4  [Wed Oct 11 14:32:52.833446 2023] [pid 1234] [...    runtime    error   \n",
      "\n",
      "                                         description  \\\n",
      "0  The RewriteRule directive matched a request, b...   \n",
      "1  The error indicates that the Apache server cou...   \n",
      "2  The error occurs because the mod_rewrite modul...   \n",
      "3  The error occurs due to an invalid URI redirec...   \n",
      "4  The error indicates a syntax issue in the .hta...   \n",
      "\n",
      "                                            solution  \n",
      "0  Check the file permissions for the target file...  \n",
      "1  Check if the .htaccess file exists in the /var...  \n",
      "2  Check the .htaccess file for syntax errors, pa...  \n",
      "3  Inspect the RewriteRule at line 10 of the .hta...  \n",
      "4  Check the .htaccess file and correct the URI r...  \n"
     ]
    }
   ],
   "source": [
    "import pandas as pd\n",
    "\n",
    "df = pd.read_csv('C:/Users/jager/Desktop/github/hackos-3/data/synthetic/generated.csv', sep='|', on_bad_lines='skip')\n",
    "print(df.head())"
   ]
  },
  {
   "cell_type": "code",
   "execution_count": 3,
   "metadata": {},
   "outputs": [],
   "source": [
    "from agent import SimpleAgent\n",
    "\n",
    "agent = SimpleAgent(model, prompt_template_path='C:/Users/jager/Desktop/github/hackos-3/prompts_template/error_description_generation/error_description_generation.md')"
   ]
  },
  {
   "cell_type": "code",
   "execution_count": 4,
   "metadata": {},
   "outputs": [
    {
     "name": "stderr",
     "output_type": "stream",
     "text": [
      "Truncation was not explicitly activated but `max_length` is provided a specific value, please use `truncation=True` to explicitly truncate examples to max length. Defaulting to 'longest_first' truncation strategy. If you encode pairs of sequences (GLUE-style) with the tokenizer you can select this strategy more precisely by providing a specific strategy to `truncation`.\n"
     ]
    },
    {
     "name": "stdout",
     "output_type": "stream",
     "text": [
      "Starting prediction...\n",
      "Completion in 172.55 seconds.\n",
      "------------------------------------------------\n",
      "# Prompt\n",
      "Generate one line of format: error_type | severity | description based on the following input:\n",
      "[Wed Oct 11 14:32:45.000000 2023] [error] [client 192.168.1.1] client denied by server configuration: /var/www/html/.htaccess\n",
      "\n",
      "# Thinking process\n",
      "CoT Thinking\n",
      "\n",
      "# Completion\n",
      "```json\n",
      "{\n",
      "    \"error_type\": \"error\",\n",
      "    \"severity\": \"error\",\n",
      "    \"description\": \"The server denied access to the /var/www/html directory.\"\n",
      "}\n",
      "```\n",
      "\n"
     ]
    },
    {
     "data": {
      "text/plain": [
       "ModelPrediction(input='# Instruction\\nYou are a helpful assistant generating descriptions to problems from production-environment system logs.\\n\\n## Output expected\\n```json\\n{\\n    \"error_type\": \"string\",\\n    \"severity\": \"string\",\\n    \"description\": \"string\"\\n}\\n```\\n\\nwith:\\n- \"error_type\": the type of error that the line represents, one of \"fatal\", \"runtime\", \"warning\" or \"no_error\",\\n- \"severity\": the severity (LogLevel) of the error, one of \"error\", \"warn\", or \"notice\",\\n- \"description\": a brief interpretation of the log line.\\n\\n### Example session\\n\\n###START_SESSION###\\n# Prompt\\nGenerate one line of format: error_type | severity | description based on the following input:\\n[Thu Sep 21 11:10:55.123456 2023] [rewrite:warn] [client 172.16.0.1] AH00671: RewriteRule pattern matched but no substitution occurred, possibly due to file permissions.\\n\\n# Thinking process\\nCoT Thinking\\n\\n# Completion\\n```json\\n{\\n    \"error_type\": \"warning\",\\n    \"severity\": \"warn\",\\n    \"description\": \"The RewriteRule directive matched a request, but no substitution was performed, possibly due to file permissions issues.\"\\n}\\n```\\n###END_SESSION###\\n\\n## Important notice\\n- The output must be a string with the three output parameters. Each separated by | .\\n- You can\\'t make up new error_type and severity, and must follow the categories described above.\\n- error_type and severity can only be of one single category. \\n- Feel creative and be as informative as possible in your description.\\n\\n###START_SESSION###\\n# Prompt\\nGenerate one line of format: error_type | severity | description based on the following input:\\n[Wed Oct 11 14:32:45.000000 2023] [error] [client 192.168.1.1] client denied by server configuration: /var/www/html/.htaccess\\n\\n# Thinking process', error_type='error', severity='error', description='The server denied access to the /var/www/html directory.', solution=None)"
      ]
     },
     "execution_count": 4,
     "metadata": {},
     "output_type": "execute_result"
    }
   ],
   "source": [
    "output = agent(input_data=df.loc[1][\"input\"])"
   ]
  }
 ],
 "metadata": {
  "kernelspec": {
   "display_name": "venv",
   "language": "python",
   "name": "python3"
  },
  "language_info": {
   "codemirror_mode": {
    "name": "ipython",
    "version": 3
   },
   "file_extension": ".py",
   "mimetype": "text/x-python",
   "name": "python",
   "nbconvert_exporter": "python",
   "pygments_lexer": "ipython3",
   "version": "3.11.9"
  }
 },
 "nbformat": 4,
 "nbformat_minor": 2
}
