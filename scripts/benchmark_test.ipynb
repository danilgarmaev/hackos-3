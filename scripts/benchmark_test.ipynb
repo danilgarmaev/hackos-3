{
 "cells": [
  {
   "cell_type": "code",
   "execution_count": 1,
   "metadata": {},
   "outputs": [
    {
     "name": "stderr",
     "output_type": "stream",
     "text": [
      "c:\\Users\\jager\\Desktop\\github\\hackos-3\\venv\\Lib\\site-packages\\tqdm\\auto.py:21: TqdmWarning: IProgress not found. Please update jupyter and ipywidgets. See https://ipywidgets.readthedocs.io/en/stable/user_install.html\n",
      "  from .autonotebook import tqdm as notebook_tqdm\n"
     ]
    }
   ],
   "source": [
    "from benchmark.benchmark import Benchmark\n",
    "from benchmark.model import Problem_Model, Solution_Model\n",
    "import os\n",
    "\n",
    "repo_path = os.getcwd()"
   ]
  },
  {
   "cell_type": "code",
   "execution_count": null,
   "metadata": {},
   "outputs": [
    {
     "name": "stdout",
     "output_type": "stream",
     "text": [
      "Loading model DeepSeek-R1-Distill-Qwen-1.5B...\n"
     ]
    },
    {
     "name": "stderr",
     "output_type": "stream",
     "text": [
      "Loading checkpoint shards: 100%|██████████| 2/2 [00:00<00:00,  2.50it/s]\n",
      "Device set to use cpu\n"
     ]
    },
    {
     "name": "stdout",
     "output_type": "stream",
     "text": [
      "Model DeepSeek-R1-Distill-Qwen-1.5B loaded in 1.47 seconds.\n",
      "------------------------------------------------\n",
      "Starting prediction...\n",
      "Completion in 25.67 seconds.\n",
      "------------------------------------------------\n",
      "Starting prediction...\n",
      "Completion in 27.81 seconds.\n",
      "------------------------------------------------\n",
      "Starting prediction...\n",
      "Completion in 25.28 seconds.\n",
      "------------------------------------------------\n",
      "Starting prediction...\n",
      "Completion in 25.24 seconds.\n",
      "------------------------------------------------\n",
      "Starting prediction...\n",
      "Completion in 25.38 seconds.\n",
      "------------------------------------------------\n",
      "Starting prediction...\n",
      "Completion in 24.91 seconds.\n",
      "------------------------------------------------\n",
      "Starting prediction...\n",
      "Completion in 25.78 seconds.\n",
      "------------------------------------------------\n",
      "Starting prediction...\n",
      "Completion in 25.53 seconds.\n",
      "------------------------------------------------\n",
      "Starting prediction...\n",
      "Completion in 25.44 seconds.\n",
      "------------------------------------------------\n",
      "Starting prediction...\n",
      "Completion in 26.75 seconds.\n",
      "------------------------------------------------\n",
      "Starting prediction...\n",
      "Completion in 28.70 seconds.\n",
      "------------------------------------------------\n",
      "Starting prediction...\n",
      "Completion in 26.45 seconds.\n",
      "------------------------------------------------\n",
      "Starting prediction...\n",
      "Completion in 26.12 seconds.\n",
      "------------------------------------------------\n",
      "Starting prediction...\n",
      "Completion in 25.80 seconds.\n",
      "------------------------------------------------\n",
      "Starting prediction...\n",
      "Completion in 27.07 seconds.\n",
      "------------------------------------------------\n",
      "Starting prediction...\n",
      "Completion in 28.32 seconds.\n",
      "------------------------------------------------\n",
      "Starting prediction...\n",
      "Completion in 25.81 seconds.\n",
      "------------------------------------------------\n",
      "Starting prediction...\n",
      "Completion in 30.05 seconds.\n",
      "------------------------------------------------\n",
      "Starting prediction...\n",
      "Completion in 26.39 seconds.\n",
      "------------------------------------------------\n",
      "Starting prediction...\n",
      "Completion in 27.12 seconds.\n",
      "------------------------------------------------\n"
     ]
    },
    {
     "data": {
      "text/plain": [
       "({'severity': 7, 'error_type': 18, 'description': np.float32(2.9425514)},\n",
       " [ModelPrediction(input='[Thu Sep 21 11:10:55.123456 2023] [rewrite:warn] [client 172.16.0.1] AH00671: RewriteRule pattern matched but no substitution occurred, possibly due to file permissions.', error_type='warning', severity='warn', description='The RewriteRule directive matched a request, but no substitution was performed, possibly due to file permissions issues.', solution=None),\n",
       "  ModelPrediction(input='[Wed Oct 11 14:32:45.000000 2023] [error] [client 192.168.1.1] client denied by server configuration: /var/www/html/.htaccess', error_type='error', severity='error', description='The server configuration file.htaccess at line 10 is denied by the client 192.168.1.1, causing a failed redirect.', solution=None),\n",
       "  ModelPrediction(input='[Wed Oct 11 14:32:52.833446 2023] [rewrite:error] [pid 1234] [client 192.168.1.1] Invalid URI redirect in .htaccess file at line 10', error_type='error', severity='error', description='The.htaccess configuration file at line 10 contains an invalid URI redirect directive, causing Apache to fail parsing the configuration.', solution=None),\n",
       "  ModelPrediction(input='[Wed Oct 11 14:32:52.833446 2023] [pid 1234] [client 192.168.1.1] Invalid URI redirect in .htaccess file at line 10', error_type='error', severity='error', description='The.htaccess file at line 10 contains an invalid URI redirect directive, causing Apache to fail parsing the configuration.', solution=None),\n",
       "  ModelPrediction(input='[Wed Oct 11 14:32:52.833446 2023] [pid 1234] [client 192.168.1.1] Invalid URI redirect in .htaccess file at line 10', error_type='error', severity='error', description='The.htaccess file configuration contains an invalid URI redirect directive at line 10, causing Apache to fail parsing the configuration.', solution=None),\n",
       "  ModelPrediction(input=\"[Wed Oct 11 14:32:52.833446 2023] [pid 1234] [client 192.168.1.1] AH00132: File '/var/www/html/index.php' requires read permissions for others, but has 640\", error_type='no_error', severity='error', description=\"The file '/var/www/html/index.php' requires read permissions, but the current permissions are 640, which is insufficient.\", solution=None),\n",
       "  ModelPrediction(input='[Thu Nov 16 10:15:23.456789 2023] [pid 5678] [client 127.0.0.1] Invalid rewrite flags in .htaccess file at line 5', error_type='error', severity='error', description='The error indicates an invalid rewrite flag directive in the.htaccess file at line 5, causing Apache to fail parsing the configuration.', solution=None),\n",
       "  ModelPrediction(input='[Wed Oct 11 14:32:52.833446 2023] [pid 1234] [client 192.168.1.1] Invalid URI redirect in .htaccess file at line 10', error_type='error', severity='error', description='The configuration file.htaccess at line 10 contains an invalid URI redirect directive, causing Apache to fail parsing the configuration.', solution=None),\n",
       "  ModelPrediction(input='[Wed Oct 11 14:32:52.833446 2023] [pid 1234] [client 192.168.1.1] Invalid URI redirect in .htaccess file at line 10', error_type='error', severity='error', description='The.htaccess file at line 10 contains an invalid URI redirect directive, causing Apache to fail parsing the configuration.', solution=None),\n",
       "  ModelPrediction(input='[Wed Oct 11 14:32:52.833446 2023] [pid 1234] [client 192.168.1.1] Invalid URI redirect in .htaccess file at line 10', error_type='error', severity='error', description='The.htaccess configuration file at line 10 contains an invalid URI redirect directive, causing Apache to fail parsing the configuration.', solution=None),\n",
       "  ModelPrediction(input='[Wed Oct 11 14:32:52.833446 2023] [pid 1234] [client 192.168.1.1] Invalid URI redirect in .htaccess file at line 10', error_type='error', severity='error', description='The.htaccess file at line 10 contains an invalid URI redirect directive, causing Apache to fail parsing the configuration.', solution=None),\n",
       "  ModelPrediction(input='[Wed Oct 11 14:32:52.833446 2023] [pid 1234] [client 192.168.1.1] Invalid URI redirect in .htaccess file at line 10', error_type='error', severity='error', description='The.htaccess file at line 10 contains an invalid URI redirect directive, causing Apache to fail parsing the configuration.', solution=None),\n",
       "  ModelPrediction(input='[Wed Oct 11 14:32:52.833446 2023] [pid 1234] [client 192.168.1.1] Invalid URI redirect in .htaccess file at line 10', error_type='error', severity='error', description='The.htaccess file contains an invalid URI redirect directive at line 10, causing Apache to fail parsing the configuration.', solution=None),\n",
       "  ModelPrediction(input='[Wed Oct 11 14:32:52.833446 2023] [pid 1234] [client 192.168.1.1] Invalid URI redirect in .htaccess file at line 10', error_type='error', severity='error', description='The.htaccess file at line 10 contains an invalid URI redirect directive, causing Apache to fail parsing the configuration.', solution=None),\n",
       "  ModelPrediction(input='[Wed Oct 11 14:32:52.833446 2023] [pid 1234] [client 192.168.1.1] Invalid URI redirect in .htaccess file at line 10', error_type='error', severity='error', description='The.htaccess configuration file at line 10 contains an invalid URI redirect directive, causing Apache to fail parsing the configuration.', solution=None),\n",
       "  ModelPrediction(input='[Thu Nov 16 08:45:23.123456 2023] [pid 5678] [client 10.0.2.5] AH00537: Apache/2.4.57 (Ubuntu) configured -- resuming normal operations', error_type='no_error', severity='no_error', description='No error was encountered during the execution of the Apache/2.4.57 configuration check.', solution=None),\n",
       "  ModelPrediction(input='[Wed Oct 11 14:32:52.833446 2023] [pid 1234] [client 192.168.1.1] Invalid URI redirect in .htaccess file at line 10', error_type='error', severity='error', description='The.htaccess file at line 10 contains an invalid URI redirect directive, causing Apache to fail parsing the configuration.', solution=None),\n",
       "  ModelPrediction(input='[Wed Oct 11 14:32:52.833446 2023] [pid 1234] [client 192.168.1.1] Invalid URI redirect in .htaccess file at line 10', error_type='error', severity='error', description='The.htaccess file at line 10 contains an invalid URI redirect directive, causing Apache to fail parsing the configuration.', solution=None),\n",
       "  ModelPrediction(input='[Wed Oct 11 14:32:52.833446 2023] [pid 1234] [client 192.168.1.1] Connection timed out while reading from upstream server', error_type='no_error', severity='error', description='The connection timed out while reading from upstream server, causing a network error.', solution=None),\n",
       "  ModelPrediction(input='[Wed Oct 11 14:32:52.833446 2023] [pid 1234] [client 192.168.1.1] Increasing memory usage detected in example_module', error_type='runtime', severity='error', description='An error was detected in the example_module, indicating an increase in memory usage, which could be due to a memory leak or incorrect configuration.', solution=None)],\n",
       " 20)"
      ]
     },
     "execution_count": 2,
     "metadata": {},
     "output_type": "execute_result"
    }
   ],
   "source": [
    "problem_model = Problem_Model(\n",
    "    model_name=\"DeepSeek-R1-Distill-Qwen-1.5B\",\n",
    "    prompt_template_path=os.path.join(repo_path,'prompts_template','error_description_generation','error_description_generation.md')\n",
    "    )\n",
    "\n",
    "problem_benchmark = Benchmark(\n",
    "    model=problem_model,\n",
    "    dataset_path=os.path.join(repo_path,'data','synthetic','generated.csv'),\n",
    "    delimiter='|'\n",
    "    )\n",
    "\n",
    "losses, predictions, num_data = problem_benchmark.run_benchmark()\n",
    "print(losses)"
   ]
  },
  {
   "cell_type": "code",
   "execution_count": 2,
   "metadata": {},
   "outputs": [
    {
     "name": "stdout",
     "output_type": "stream",
     "text": [
      "Loading model DeepSeek-R1-Distill-Qwen-1.5B...\n"
     ]
    },
    {
     "name": "stderr",
     "output_type": "stream",
     "text": [
      "Loading checkpoint shards: 100%|██████████| 2/2 [00:00<00:00,  3.74it/s]\n",
      "Device set to use cpu\n"
     ]
    },
    {
     "name": "stdout",
     "output_type": "stream",
     "text": [
      "Model DeepSeek-R1-Distill-Qwen-1.5B loaded in 1.20 seconds.\n",
      "------------------------------------------------\n",
      "Starting prediction...\n",
      "Completion in 18.82 seconds.\n",
      "------------------------------------------------\n",
      "Starting prediction...\n",
      "Completion in 28.75 seconds.\n",
      "------------------------------------------------\n",
      "Starting prediction...\n",
      "Completion in 22.39 seconds.\n",
      "------------------------------------------------\n",
      "Starting prediction...\n",
      "Completion in 22.94 seconds.\n",
      "------------------------------------------------\n",
      "Starting prediction...\n",
      "Completion in 23.08 seconds.\n",
      "------------------------------------------------\n",
      "{'solution': np.float32(0.45157263)}\n"
     ]
    }
   ],
   "source": [
    "solution_model = Solution_Model(\n",
    "    model_name=\"DeepSeek-R1-Distill-Qwen-1.5B\",\n",
    "    prompt_template_path=os.path.join(repo_path,'prompts_template','solution_generation','solution_generation.md')\n",
    "    )\n",
    "\n",
    "solution_benchmark = Benchmark(\n",
    "    model=solution_model,\n",
    "    dataset_path=os.path.join(repo_path,'data','synthetic','generated.csv'),\n",
    "    delimiter='|'\n",
    "    )\n",
    "\n",
    "losses, predictions, num_data = solution_benchmark.run_benchmark()\n",
    "print(losses)"
   ]
  }
 ],
 "metadata": {
  "kernelspec": {
   "display_name": "venv",
   "language": "python",
   "name": "python3"
  },
  "language_info": {
   "codemirror_mode": {
    "name": "ipython",
    "version": 3
   },
   "file_extension": ".py",
   "mimetype": "text/x-python",
   "name": "python",
   "nbconvert_exporter": "python",
   "pygments_lexer": "ipython3",
   "version": "3.11.9"
  }
 },
 "nbformat": 4,
 "nbformat_minor": 2
}
